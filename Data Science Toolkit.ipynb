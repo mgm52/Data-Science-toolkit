{
 "cells": [
  {
   "cell_type": "code",
   "execution_count": 12,
   "metadata": {},
   "outputs": [],
   "source": [
    "import numpy as np\n",
    "import matplotlib.pyplot as plt"
   ]
  },
  {
   "cell_type": "code",
   "execution_count": 30,
   "metadata": {},
   "outputs": [],
   "source": [
    "# Example data:\n",
    "x = [4.3, 5.1, 6.1, 6.8, 7.4, 8.8, 9.9]"
   ]
  },
  {
   "cell_type": "code",
   "execution_count": 35,
   "metadata": {
    "scrolled": false
   },
   "outputs": [
    {
     "data": {
      "text/plain": [
       "0.5254294302758403"
      ]
     },
     "execution_count": 35,
     "metadata": {},
     "output_type": "execute_result"
    }
   ],
   "source": [
    "# Useful simple stuff:\n",
    "\n",
    "# CONCATENATE ARRAYS\n",
    "np.concatenate([[1, 2, 3], [4, 5]])\n",
    "\n",
    "# RANDOM INT\n",
    "np.random.randint(1, 100)\n",
    "\n",
    "# RANDOM FLOAT\n",
    "np.random.uniform(0, 1)"
   ]
  },
  {
   "cell_type": "markdown",
   "metadata": {},
   "source": [
    "## Hypothesis testing; Confidence Intervals"
   ]
  },
  {
   "cell_type": "markdown",
   "metadata": {},
   "source": [
    "**R.N:** Resampling (normal)"
   ]
  },
  {
   "cell_type": "code",
   "execution_count": 5,
   "metadata": {},
   "outputs": [],
   "source": [
    "def rand_n(μ, σ):\n",
    "    return np.random.normal(loc=μ, scale=σ)"
   ]
  },
  {
   "cell_type": "markdown",
   "metadata": {},
   "source": [
    "**R.B:** Resampling (binomial)<br>\n",
    "*returns int representing number of \"successes\"*"
   ]
  },
  {
   "cell_type": "code",
   "execution_count": 36,
   "metadata": {},
   "outputs": [],
   "source": [
    "def rand_b(n, p):\n",
    "    return numpy.random.binomial(n, p)"
   ]
  },
  {
   "cell_type": "markdown",
   "metadata": {},
   "source": [
    "**R.E:** Resampling (empirical)"
   ]
  },
  {
   "cell_type": "code",
   "execution_count": 6,
   "metadata": {},
   "outputs": [],
   "source": [
    "def rand_e(ts):\n",
    "    return np.random.choice(ts)"
   ]
  },
  {
   "cell_type": "markdown",
   "metadata": {},
   "source": [
    "**CV.NE:** Convert normal->empirical <br>\n",
    "*Assumes R.N*"
   ]
  },
  {
   "cell_type": "code",
   "execution_count": 7,
   "metadata": {},
   "outputs": [],
   "source": [
    "def n_to_e(μ, σ):\n",
    "    return np.random.normal(loc=μ, scale=σ, size=10000)"
   ]
  },
  {
   "cell_type": "markdown",
   "metadata": {},
   "source": [
    "**CV.BE** Convert binomial->empirical"
   ]
  },
  {
   "cell_type": "code",
   "execution_count": 37,
   "metadata": {},
   "outputs": [],
   "source": [
    "def b_to_e(n, p):\n",
    "    return np.random.binomial(n, p, size=10000)"
   ]
  },
  {
   "cell_type": "markdown",
   "metadata": {},
   "source": [
    "**CV.EN:** Convert empirical->normal"
   ]
  },
  {
   "cell_type": "code",
   "execution_count": 8,
   "metadata": {},
   "outputs": [],
   "source": [
    "def e_to_n(ts):\n",
    "    return (np.mean(ts), np.std(ts))"
   ]
  },
  {
   "cell_type": "markdown",
   "metadata": {},
   "source": [
    "**P.E:** P-values (empirical) <br>\n",
    "*(essentially applying ECDF)*"
   ]
  },
  {
   "cell_type": "code",
   "execution_count": 38,
   "metadata": {},
   "outputs": [],
   "source": [
    "def p_lesser(ts, val): return np.mean(ts <= np.float64(val))\n",
    "def p_greater(ts, val): return np.mean(ts >= np.float64(val))\n",
    "def p_1t(ts, val): return np.min([p_lesser(ts, val), p_greater(ts, val)])\n",
    "def p_2t(ts, val): return 2 * p_1t(ts, val)"
   ]
  },
  {
   "cell_type": "markdown",
   "metadata": {},
   "source": [
    "**CFI.E:** Confidence interval (empirical) <br>\n",
    "*It's advised to do this with normal (CV.NE) rather than get N actual interval*"
   ]
  },
  {
   "cell_type": "code",
   "execution_count": 31,
   "metadata": {},
   "outputs": [],
   "source": [
    "# e.g. conf_interval(int arr, 0.025, 0.975)\n",
    "#      returns 2.5% and 97.5% percentiles\n",
    "# NOTE: data does not have to be ordered\n",
    "\n",
    "def conf_interval(ts, lo_dec, hi_dec):\n",
    "    lo,hi = np.quantile(ts, [lo_dec, hi_dec])\n",
    "    return (lo, hi)"
   ]
  },
  {
   "cell_type": "markdown",
   "metadata": {},
   "source": [
    "**HIST:** Plot a histogram"
   ]
  },
  {
   "cell_type": "code",
   "execution_count": 22,
   "metadata": {},
   "outputs": [
    {
     "data": {
      "image/png": "[encoded data removed]",
      "text/plain": [
       "<Figure size 432x288 with 1 Axes>"
      ]
     },
     "metadata": {
      "needs_background": "light"
     },
     "output_type": "display_data"
    }
   ],
   "source": [
    "def plt_hist(x):\n",
    "    plt.hist(x, density=True, bins=30)\n",
    "    plt.ylabel(\"p\")\n",
    "    plt.xlabel(\"val\")\n",
    "\n",
    "plt_hist(n_to_e(0, 1))"
   ]
  },
  {
   "cell_type": "code",
   "execution_count": null,
   "metadata": {},
   "outputs": [],
   "source": []
  }
 ],
 "metadata": {
  "kernelspec": {
   "display_name": "python3.9",
   "language": "python",
   "name": "python3.9"
  },
  "language_info": {
   "codemirror_mode": {
    "name": "ipython",
    "version": 3
   },
   "file_extension": ".py",
   "mimetype": "text/x-python",
   "name": "python",
   "nbconvert_exporter": "python",
   "pygments_lexer": "ipython3",
   "version": "3.9.0"
  }
 },
 "nbformat": 4,
 "nbformat_minor": 4
}
